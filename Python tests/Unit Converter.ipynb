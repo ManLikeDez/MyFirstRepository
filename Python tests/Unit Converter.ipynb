{
 "cells": [
  {
   "cell_type": "code",
   "execution_count": 2,
   "metadata": {},
   "outputs": [
    {
     "name": "stdout",
     "output_type": "stream",
     "text": [
      "300.0 km is equal to 186.4113 miles.\n"
     ]
    }
   ],
   "source": [
    "def convert_cm_to_meters(cm):\n",
    "    \"\"\"Converts centimeters to meters.\"\"\"\n",
    "    return cm / 100\n",
    "\n",
    "def convert_km_to_miles(km):\n",
    "    \"\"\"Converts kilometers to miles.\"\"\"\n",
    "    return km * 0.621371\n",
    "\n",
    "def convert_inches_to_feet(inches):\n",
    "    \"\"\"Converts inches to feet.\"\"\"\n",
    "    return inches / 12\n",
    "\n",
    "# Get user input\n",
    "choice = input(\"Choose a conversion:\\n1. cm to meters\\n2. km to miles\\n3. inches to feet\\nEnter your choice: \")\n",
    "\n",
    "if choice == '1':\n",
    "    cm = float(input(\"Enter the length in centimeters: \"))\n",
    "    meters = convert_cm_to_meters(cm)\n",
    "    print(f\"{cm} cm is equal to {meters} meters.\")\n",
    "elif choice == '2':\n",
    "    km = float(input(\"Enter the distance in kilometers: \"))\n",
    "    miles = convert_km_to_miles(km)\n",
    "    print(f\"{km} km is equal to {miles} miles.\")\n",
    "elif choice == '3':\n",
    "    inches = float(input(\"Enter the length in inches: \"))\n",
    "    feet = convert_inches_to_feet(inches)\n",
    "    print(f\"{inches} inches is equal to {feet} feet.\")\n",
    "else:\n",
    "    print(\"Invalid choice. Please enter 1, 2, or 3.\")"
   ]
  }
 ],
 "metadata": {
  "kernelspec": {
   "display_name": "Python 3",
   "language": "python",
   "name": "python3"
  },
  "language_info": {
   "codemirror_mode": {
    "name": "ipython",
    "version": 3
   },
   "file_extension": ".py",
   "mimetype": "text/x-python",
   "name": "python",
   "nbconvert_exporter": "python",
   "pygments_lexer": "ipython3",
   "version": "3.11.9"
  }
 },
 "nbformat": 4,
 "nbformat_minor": 2
}
